{
 "cells": [
  {
   "cell_type": "code",
   "execution_count": 1,
   "metadata": {},
   "outputs": [
    {
     "name": "stdout",
     "output_type": "stream",
     "text": [
      "Model: \"sequential\"\n",
      "_________________________________________________________________\n",
      "Layer (type)                 Output Shape              Param #   \n",
      "=================================================================\n",
      "conv2d (Conv2D)              (None, 28, 28, 6)         156       \n",
      "_________________________________________________________________\n",
      "average_pooling2d (AveragePo (None, 14, 14, 6)         0         \n",
      "_________________________________________________________________\n",
      "conv2d_1 (Conv2D)            (None, 10, 10, 16)        2416      \n",
      "_________________________________________________________________\n",
      "average_pooling2d_1 (Average (None, 5, 5, 16)          0         \n",
      "_________________________________________________________________\n",
      "flatten (Flatten)            (None, 400)               0         \n",
      "_________________________________________________________________\n",
      "dense (Dense)                (None, 120)               48120     \n",
      "_________________________________________________________________\n",
      "dense_1 (Dense)              (None, 10)                1210      \n",
      "=================================================================\n",
      "Total params: 51,902\n",
      "Trainable params: 51,902\n",
      "Non-trainable params: 0\n",
      "_________________________________________________________________\n",
      "Accuracy:  0.9872999787330627\n"
     ]
    }
   ],
   "source": [
    "#LENET_SVD\n",
    "from keras import backend\n",
    "from keras import datasets\n",
    "import keras\n",
    "import numpy as np\n",
    "from keras import models, layers\n",
    "from keras.models import Model,Sequential, model_from_json\n",
    "from keras.layers import Dense, Conv2D, AveragePooling2D, Flatten\n",
    "from keras.datasets import mnist\n",
    "from keras.utils import np_utils\n",
    "\n",
    "\n",
    "# Load dataset as train and test sets\n",
    "(x_train, y_train), (x_test, y_test) = mnist.load_data()\n",
    "\n",
    "img_rows, img_cols = x_train.shape[1:]\n",
    "\n",
    "if backend.image_data_format() == 'channels_first':\n",
    "    x_train = x_train.reshape(x_train.shape[0], 1, img_rows, img_cols)\n",
    "    x_test = x_test.reshape(x_test.shape[0], 1, img_rows, img_cols)\n",
    "    input_shape = (1, img_rows, img_cols)\n",
    "else:\n",
    "    x_train = x_train.reshape(x_train.shape[0], img_rows, img_cols, 1)\n",
    "    x_test = x_test.reshape(x_test.shape[0], img_rows, img_cols, 1)\n",
    "    input_shape = (img_rows, img_cols, 1)\n",
    "\n",
    "x_test = np.pad(x_test, ((0,0),(2,2),(2,2),(0,0)), 'constant') #pad the images\n",
    "x_test = x_test.astype('float32') # Set numeric type to float32 from uint8\n",
    "x_test /= 255 # Normalize value to [0, 1]\n",
    "x_test = x_test.reshape(x_test.shape[0], 32,32,1) # Reshape the dataset into 4D array\n",
    "y_test = np_utils.to_categorical(y_test, 10) # Transform lables to one-hot encoding\n",
    "\n",
    "\n",
    "json_file = open('Lenet5_Files_Baseline/Lenet.json', 'r')\n",
    "lenet_model_json = json_file.read()\n",
    "json_file.close()\n",
    "lenet_model = model_from_json(lenet_model_json)\n",
    "lenet_model.load_weights(\"Lenet5_Files_Baseline/Lenet.h5\")\n",
    "lenet_model.compile(loss='categorical_crossentropy',optimizer='SGD',metrics=['accuracy'])\n",
    "\n",
    "lenet_model.summary()\n",
    "\n",
    "# Write the testing input and output variables\n",
    "score = lenet_model.evaluate(x_test, y_test, verbose=0)\n",
    "truncsvd_accuracy = score[1]\n",
    "print('Accuracy: ', truncsvd_accuracy)"
   ]
  }
 ],
 "metadata": {
  "kernelspec": {
   "display_name": "Python 3",
   "language": "python",
   "name": "python3"
  },
  "language_info": {
   "codemirror_mode": {
    "name": "ipython",
    "version": 3
   },
   "file_extension": ".py",
   "mimetype": "text/x-python",
   "name": "python",
   "nbconvert_exporter": "python",
   "pygments_lexer": "ipython3",
   "version": "3.8.3"
  }
 },
 "nbformat": 4,
 "nbformat_minor": 4
}

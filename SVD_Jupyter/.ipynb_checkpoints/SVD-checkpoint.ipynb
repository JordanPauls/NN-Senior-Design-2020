{
 "cells": [
  {
   "cell_type": "code",
   "execution_count": 15,
   "metadata": {},
   "outputs": [
    {
     "data": {
      "text/plain": [
       "(120, 120, 5, 5)"
      ]
     },
     "execution_count": 15,
     "metadata": {},
     "output_type": "execute_result"
    }
   ],
   "source": [
    "import struct\n",
    "import numpy as np \n",
    "import matplotlib.pyplot as plt\n",
    "fileName = '../LeNet-5/model.dat'\n",
    "with open(fileName, mode='rb') as file: # b is important -> binary\n",
    "    fileContent = file.read()\n",
    "\n",
    "# print(len(fileContent))\n",
    "# struct.unpack(\"dddd\", fileContent[:32])\n",
    "# All = struct.unpack(\"d\" * (51902*8 // 8), fileContent[0:51902*8])\n",
    "marker = 0; #variable to keep track of file reading\n",
    "W0_1 = struct.unpack(\"d\" * (300*8 // 8), fileContent[0:300*8]);marker = 300*8;  # 1st Weights Layer: 150 weights, 8 bytes each (double type)\n",
    "W2_3 = struct.unpack(\"d\" * (36000*8 // 8), fileContent[marker:36000*8+marker]); marker+=36000*8  # 2nd Weights Layer: 2400 weights, 8 bytes each (double type)\n",
    "W4_5 = struct.unpack(\"d\" * (360000*8 // 8), fileContent[marker:360000*8+marker]); marker+=360000*8  # 3rd Weights Layer: 48000 weights, 8 bytes each (double type)\n",
    "W5_6 = struct.unpack(\"d\" * (1200*8 // 8), fileContent[marker:1200*8+marker]); marker+=1200*8 # Final Weights Layer: 1200 weights, 8 bytes each (double type)\n",
    "B0_1 = struct.unpack(\"d\" * (12*8 // 8), fileContent[marker:12*8+marker]); marker+=12*8 # 1st Bias layer: 6 weights, 8 bytes each (double type)\n",
    "B2_3 = struct.unpack(\"d\" * (120*8 // 8), fileContent[marker:120*8+marker]);  marker+=120*8# 2nd Bias layer: 16 weights, 8 bytes each (double type)\n",
    "B4_5 = struct.unpack(\"d\" * (120*8 // 8), fileContent[marker:120*8+marker]);  marker+=120*8# 3rd Bias layer: 120 weights, 8 bytes each (double type)\n",
    "B5_6 = struct.unpack(\"d\" * (10*8 // 8), fileContent[marker:10*8+marker]); marker+=10*8 # Output Bias layer: 10 weights, 8 bytes each (double type)\n",
    "\n",
    "W4_5_arr = np.array(W4_5) #This is the weights layer we'll be working with\n",
    "W4_5_mat = W4_5_arr.reshape(120,120,5,5)\n",
    "\n",
    "W4_5_mat.shape"
   ]
  },
  {
   "cell_type": "code",
   "execution_count": 14,
   "metadata": {},
   "outputs": [
    {
     "name": "stdout",
     "output_type": "stream",
     "text": [
      "Before SVD array sizes:    U :  (5, 5, 120, 120)     D :  (5, 5, 120, 120)      V_h :  (5, 5, 120, 120)\n",
      " After SVD array sizes:    U':  (5, 5, 120, 80)     D':  (5, 5, 80, 80)      V_h':  (5, 5, 80, 120)\n",
      "\n",
      "D*Vh size:  (5, 5, 80, 120)\n",
      "[9.10355153e-01 6.95719132e-01 4.10572063e-01 3.81030303e-01\n",
      " 2.86331998e-01 2.71433562e-01 1.78885771e-01 1.20385095e-01\n",
      " 1.17221250e-01 9.05563724e-02 8.10871818e-02 6.46083401e-02\n",
      " 5.21781688e-02 5.02170943e-02 4.03131937e-02 3.33441759e-02\n",
      " 2.49143005e-02 2.43130809e-02 2.06240455e-02 1.84861396e-02\n",
      " 1.67394887e-02 1.34321573e-02 1.32304113e-02 1.19329823e-02\n",
      " 1.11997436e-02 1.02136808e-02 9.55280723e-03 7.95793601e-03\n",
      " 7.57546803e-03 7.26009009e-03 7.14311828e-03 6.11074198e-03\n",
      " 5.79774403e-03 5.41712758e-03 4.98486370e-03 4.94148577e-03\n",
      " 4.62556894e-03 4.45396451e-03 3.95347173e-03 3.81576327e-03\n",
      " 3.68580019e-03 3.49304752e-03 3.41365865e-03 3.14685661e-03\n",
      " 3.04786213e-03 2.96600717e-03 2.70228786e-03 2.56562666e-03\n",
      " 2.38646037e-03 2.35728901e-03 2.23436924e-03 2.04765114e-03\n",
      " 1.99471711e-03 1.84507785e-03 1.82054705e-03 1.76548064e-03\n",
      " 1.71729268e-03 1.65880931e-03 1.57583168e-03 1.53360563e-03\n",
      " 1.41499688e-03 1.34907360e-03 1.29564077e-03 1.27278054e-03\n",
      " 1.22084038e-03 1.12085774e-03 1.05251057e-03 1.00280610e-03\n",
      " 9.48580152e-04 9.20766148e-04 8.66500339e-04 8.23183999e-04\n",
      " 7.99220556e-04 7.63346009e-04 7.16502039e-04 6.77032596e-04\n",
      " 6.46369305e-04 6.15840128e-04 5.74017936e-04 5.50377007e-04\n",
      " 5.14608469e-04 5.00976165e-04 4.60765156e-04 4.49648642e-04\n",
      " 4.28082803e-04 3.99471662e-04 3.75348669e-04 3.55491568e-04\n",
      " 3.39820062e-04 3.10589983e-04 2.98073132e-04 2.74607241e-04\n",
      " 2.38291113e-04 2.19290788e-04 1.93066534e-04 1.80377978e-04\n",
      " 1.71220038e-04 1.66135528e-04 1.33390784e-04 1.06625061e-04\n",
      " 9.73814885e-05 9.31221345e-05 7.85506087e-05 6.91856911e-05\n",
      " 6.27973632e-05 5.29472011e-05 4.95256006e-05 3.37353558e-05\n",
      " 2.80641811e-05 2.11863144e-05 1.57212564e-05 1.28900976e-05\n",
      " 1.11618080e-05 9.07446761e-06 4.63801961e-06 2.36629706e-06\n",
      " 1.42292614e-06 7.24673090e-07 6.51573734e-10 4.04063030e-16]\n",
      "(5, 5, 120, 80)\n",
      "(5, 5, 80, 120)\n"
     ]
    }
   ],
   "source": [
    "W4_5_mat_reshape = np.transpose(W4_5_mat,axes=(3,2,0,1)) #target layer weights\n",
    "\n",
    "def performSVD(A,k): #     k= how many singular values to keep\n",
    "    U,Dvect,Vh = np.linalg.svd(A)\n",
    "    D = np.zeros(U.shape)\n",
    "    for x in range(0,Dvect.shape[0]):\n",
    "        for y in range(0,Dvect.shape[1]):\n",
    "            D[x,y,:,:] = np.diag(Dvect[x,y,:]) #D default is a vector, turn it into an array\n",
    "    print('Before SVD array sizes:    U : ',U.shape,'    D : ',D.shape,'     V_h : ',Vh.shape)\n",
    "    \n",
    "    U_prime  = U[:,:,:,0:k] #keep only leftmost k columns\n",
    "    D_prime  = D[:,:,0:k,0:k] #keep only leftmost k columns and topmost k rows\n",
    "    Vh_prime =Vh[:,:,0:k,:] #keep only topmost k rows\n",
    "#     U_prime  = U[:,0:k] #keep only leftmost k columns\n",
    "#     D_prime  = D[:,0:k] #keep only leftmost k columns <---- for 2x2\n",
    "#     Vh_prime =Vh[0:k,:] #keep only topmost k rows\n",
    "    print(\" After SVD array sizes:    U': \",U_prime.shape, \"    D': \",D_prime.shape,\"     V_h': \",Vh_prime.shape)\n",
    "    \n",
    "#     print(U_prime)\n",
    "#     print(D_prime)\n",
    "#     print(Vh_prime)\n",
    "    \n",
    "    DVh = np.matmul(D_prime,Vh_prime)\n",
    "    print('\\nD*Vh size: ',DVh.shape)\n",
    "    out = dict();  \n",
    "    out[\"U'\"] = U_prime\n",
    "    out[\"D'*V_h'\"]   = DVh\n",
    "    out[\"Original_Singular_Values\"] = Dvect\n",
    "    \n",
    "    return out\n",
    "x = performSVD(W4_5_mat_reshape,80) #returns x as a two element dictionary\n",
    "print(x[\"U'\"].shape)\n",
    "print(x[\"D'*V_h'\"].shape)\n"
   ]
  },
  {
   "cell_type": "code",
   "execution_count": null,
   "metadata": {},
   "outputs": [],
   "source": [
    "#plot singular values (cumulative summation)\n",
    "\n",
    "ypoints = np.zeros([0 120])\n",
    "singvals = x[\"Original_Singular_Values\"]\n",
    "for i in range(0,120):\n",
    "    ypoints[i] = singvals[0:i]\n",
    "xpoints = np.array(range(1,121))\n",
    "\n",
    "\n",
    "plt.plot(xpoints, ypoints)\n",
    "plt.show()"
   ]
  }
 ],
 "metadata": {
  "kernelspec": {
   "display_name": "Python 3",
   "language": "python",
   "name": "python3"
  },
  "language_info": {
   "codemirror_mode": {
    "name": "ipython",
    "version": 3
   },
   "file_extension": ".py",
   "mimetype": "text/x-python",
   "name": "python",
   "nbconvert_exporter": "python",
   "pygments_lexer": "ipython3",
   "version": "3.8.3"
  }
 },
 "nbformat": 4,
 "nbformat_minor": 4
}

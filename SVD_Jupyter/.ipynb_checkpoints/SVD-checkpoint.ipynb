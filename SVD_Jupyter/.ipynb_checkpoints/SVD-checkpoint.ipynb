{
 "cells": [
  {
   "cell_type": "code",
   "execution_count": 1,
   "metadata": {
    "scrolled": false
   },
   "outputs": [
    {
     "name": "stdout",
     "output_type": "stream",
     "text": [
      "[ 3.93971135e-01  4.67213025e-02 -1.80625084e-04  1.36307913e-02\n",
      " -2.21178388e-01 -6.18252363e-02 -3.32166795e-03 -3.90243731e-02\n",
      " -1.84858312e-01  3.08486989e-02  5.18828814e-02 -2.14620388e-01\n",
      "  5.01195758e-02 -1.54016819e-01 -1.46817008e-01 -2.50610921e-01\n",
      "  7.33023469e-05  7.41493470e-03 -1.01639564e-01 -5.72009779e-02\n",
      " -1.37021345e-01 -6.02213593e-02 -1.42841084e-01 -1.85295947e-01\n",
      "  1.15635728e-01 -1.47791150e-01 -3.55640308e-02 -9.14762005e-02\n",
      " -4.83934556e-02 -1.77979256e-01]\n"
     ]
    }
   ],
   "source": [
    "import struct\n",
    "import numpy as np \n",
    "\n",
    "fileName = '../LeNet-5/model.dat'\n",
    "with open(fileName, mode='rb') as file: # b is important -> binary\n",
    "    fileContent = file.read()\n",
    "\n",
    "# print(len(fileContent))\n",
    "# struct.unpack(\"dddd\", fileContent[:32])\n",
    "# All = struct.unpack(\"d\" * (51902*8 // 8), fileContent[0:51902*8])\n",
    "\n",
    "W0_1 = struct.unpack(\"d\" * (150*8 // 8), fileContent[0:150*8])  # 1st Weights Layer: 150 weights, 8 bytes each (double type)\n",
    "W2_3 = struct.unpack(\"d\" * (2400*8 // 8), fileContent[0:2400*8])  # 2nd Weights Layer: 2400 weights, 8 bytes each (double type)\n",
    "W4_5 = struct.unpack(\"d\" * (48000*8 // 8), fileContent[0:48000*8])  # 3rd Weights Layer: 48000 weights, 8 bytes each (double type)\n",
    "W5_6 = struct.unpack(\"d\" * (1200*8 // 8), fileContent[0:1200*8])  # Final Weights Layer: 1200 weights, 8 bytes each (double type)\n",
    "B0_1 = struct.unpack(\"d\" * (6*8 // 8), fileContent[0:6*8])  # 1st Bias layer: 6 weights, 8 bytes each (double type)\n",
    "B2_3 = struct.unpack(\"d\" * (16*8 // 8), fileContent[0:16*8])  # 2nd Bias layer: 16 weights, 8 bytes each (double type)\n",
    "B4_5 = struct.unpack(\"d\" * (120*8 // 8), fileContent[0:120*8])  # 3rd Bias layer: 120 weights, 8 bytes each (double type)\n",
    "B5_6 = struct.unpack(\"d\" * (10*8 // 8), fileContent[0:10*8])  # Output Bias layer: 10 weights, 8 bytes each (double type)\n",
    "\n",
    "W4_5_arr = np.array(W4_5) #This is the weights layer we'll be working with\n",
    "W4_5_mat = W4_5_arr.reshape(16,120,5,5)\n",
    "\n"
   ]
  },
  {
   "cell_type": "code",
   "execution_count": 50,
   "metadata": {},
   "outputs": [
    {
     "name": "stdout",
     "output_type": "stream",
     "text": [
      "Before SVD array sizes:    U :  (5, 5, 16, 16)     D :  (5, 5, 16, 16)      V_h :  (5, 5, 120, 120)\n",
      " After SVD array sizes:    U':  (5, 5, 16, 12)     D':  (5, 5, 12, 12)      V_h':  (5, 5, 12, 120)\n",
      "\n",
      "D*Vh size:  (5, 5, 12, 120)\n",
      "(5, 5, 16, 12)\n",
      "(5, 5, 12, 120)\n"
     ]
    }
   ],
   "source": [
    "W4_5_mat_reshape = np.transpose(W4_5_mat,axes=(3,2,0,1)) #target layer weights\n",
    "\n",
    "def performSVD(A,k): #     k= how many singular values to keep\n",
    "    U,Dvect,Vh = np.linalg.svd(A)\n",
    "    D = np.zeros(U.shape)\n",
    "    for x in range(0,Dvect.shape[0]):\n",
    "        for y in range(0,Dvect.shape[1]):\n",
    "            D[x,y,:,:] = np.diag(Dvect[x,y,:]) #D default is a vector, turn it into an array\n",
    "    print('Before SVD array sizes:    U : ',U.shape,'    D : ',D.shape,'     V_h : ',Vh.shape)\n",
    "    \n",
    "    U_prime  = U[:,:,:,0:k] #keep only leftmost k columns\n",
    "    D_prime  = D[:,:,0:k,0:k] #keep only leftmost k columns and topmost k rows\n",
    "    Vh_prime =Vh[:,:,0:k,:] #keep only topmost k rows\n",
    "#     U_prime  = U[:,0:k] #keep only leftmost k columns\n",
    "#     D_prime  = D[:,0:k] #keep only leftmost k columns <---- for 2x2\n",
    "#     Vh_prime =Vh[0:k,:] #keep only topmost k rows\n",
    "    print(\" After SVD array sizes:    U': \",U_prime.shape, \"    D': \",D_prime.shape,\"     V_h': \",Vh_prime.shape)\n",
    "    \n",
    "#     print(U_prime)\n",
    "#     print(D_prime)\n",
    "#     print(Vh_prime)\n",
    "    \n",
    "    DVh = np.matmul(D_prime,Vh_prime)\n",
    "    print('\\nD*Vh size: ',DVh.shape)\n",
    "    \n",
    "    out = dict();  \n",
    "    out[\"U'\"] = U_prime\n",
    "    out[\"D'*V_h'\"]   = DVh\n",
    "    return out\n",
    "x = performSVD(W4_5_mat_reshape,12) #returns x as a two element dictionary\n",
    "print(x[\"U'\"].shape)\n",
    "print(x[\"D'*V_h'\"].shape)"
   ]
  },
  {
   "cell_type": "code",
   "execution_count": null,
   "metadata": {},
   "outputs": [],
   "source": []
  },
  {
   "cell_type": "code",
   "execution_count": null,
   "metadata": {},
   "outputs": [],
   "source": []
  },
  {
   "cell_type": "code",
   "execution_count": null,
   "metadata": {},
   "outputs": [],
   "source": []
  },
  {
   "cell_type": "code",
   "execution_count": null,
   "metadata": {},
   "outputs": [],
   "source": []
  },
  {
   "cell_type": "code",
   "execution_count": null,
   "metadata": {},
   "outputs": [],
   "source": []
  },
  {
   "cell_type": "code",
   "execution_count": null,
   "metadata": {},
   "outputs": [],
   "source": []
  }
 ],
 "metadata": {
  "kernelspec": {
   "display_name": "Python 3",
   "language": "python",
   "name": "python3"
  },
  "language_info": {
   "codemirror_mode": {
    "name": "ipython",
    "version": 3
   },
   "file_extension": ".py",
   "mimetype": "text/x-python",
   "name": "python",
   "nbconvert_exporter": "python",
   "pygments_lexer": "ipython3",
   "version": "3.8.3"
  }
 },
 "nbformat": 4,
 "nbformat_minor": 4
}

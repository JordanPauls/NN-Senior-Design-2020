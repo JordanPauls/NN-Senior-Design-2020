{
 "cells": [
  {
   "cell_type": "code",
   "execution_count": 15,
   "metadata": {},
   "outputs": [
    {
     "data": {
      "text/plain": [
       "(120, 120, 5, 5)"
      ]
     },
     "execution_count": 15,
     "metadata": {},
     "output_type": "execute_result"
    }
   ],
   "source": [
    "import struct\n",
    "import numpy as np \n",
    "import matplotlib.pyplot as plt\n",
    "fileName = '../LeNet-5/model.dat'\n",
    "with open(fileName, mode='rb') as file: # b is important -> binary\n",
    "    fileContent = file.read()\n",
    "\n",
    "# print(len(fileContent))\n",
    "# struct.unpack(\"dddd\", fileContent[:32])\n",
    "# All = struct.unpack(\"d\" * (51902*8 // 8), fileContent[0:51902*8])\n",
    "marker = 0; #variable to keep track of file reading\n",
    "W0_1 = struct.unpack(\"d\" * (300*8 // 8), fileContent[0:300*8]);marker = 300*8;  # 1st Weights Layer: 150 weights, 8 bytes each (double type)\n",
    "W2_3 = struct.unpack(\"d\" * (36000*8 // 8), fileContent[marker:36000*8+marker]); marker+=36000*8  # 2nd Weights Layer: 2400 weights, 8 bytes each (double type)\n",
    "W4_5 = struct.unpack(\"d\" * (360000*8 // 8), fileContent[marker:360000*8+marker]); marker+=360000*8  # 3rd Weights Layer: 48000 weights, 8 bytes each (double type)\n",
    "W5_6 = struct.unpack(\"d\" * (1200*8 // 8), fileContent[marker:1200*8+marker]); marker+=1200*8 # Final Weights Layer: 1200 weights, 8 bytes each (double type)\n",
    "B0_1 = struct.unpack(\"d\" * (12*8 // 8), fileContent[marker:12*8+marker]); marker+=12*8 # 1st Bias layer: 6 weights, 8 bytes each (double type)\n",
    "B2_3 = struct.unpack(\"d\" * (120*8 // 8), fileContent[marker:120*8+marker]);  marker+=120*8# 2nd Bias layer: 16 weights, 8 bytes each (double type)\n",
    "B4_5 = struct.unpack(\"d\" * (120*8 // 8), fileContent[marker:120*8+marker]);  marker+=120*8# 3rd Bias layer: 120 weights, 8 bytes each (double type)\n",
    "B5_6 = struct.unpack(\"d\" * (10*8 // 8), fileContent[marker:10*8+marker]); marker+=10*8 # Output Bias layer: 10 weights, 8 bytes each (double type)\n",
    "\n",
    "W4_5_arr = np.array(W4_5) #This is the weights layer we'll be working with\n",
    "W4_5_mat = W4_5_arr.reshape(120,120,5,5)\n",
    "\n",
    "W4_5_mat.shape"
   ]
  },
  {
   "cell_type": "code",
   "execution_count": 26,
   "metadata": {},
   "outputs": [
    {
     "name": "stdout",
     "output_type": "stream",
     "text": [
      "Before SVD array sizes:    U :  (5, 5, 120, 120)     D :  (5, 5, 120, 120)      V_h :  (5, 5, 120, 120)\n",
      " After SVD array sizes:    U':  (5, 5, 120, 80)     D':  (5, 5, 80, 80)      V_h':  (5, 5, 80, 120)\n",
      "\n",
      "D*Vh size:  (5, 5, 80, 120)\n",
      "(5, 5, 120, 80)\n",
      "(5, 5, 80, 120)\n"
     ]
    }
   ],
   "source": [
    "W4_5_mat_reshape = np.transpose(W4_5_mat,axes=(3,2,0,1)) #target layer weights\n",
    "\n",
    "def performSVD(A,k): #     k= how many singular values to keep\n",
    "    U,Dvect,Vh = np.linalg.svd(A)\n",
    "    D = np.zeros(U.shape)\n",
    "    for x in range(0,Dvect.shape[0]):\n",
    "        for y in range(0,Dvect.shape[1]):\n",
    "            D[x,y,:,:] = np.diag(Dvect[x,y,:]) #D default is a vector, turn it into an array\n",
    "    print('Before SVD array sizes:    U : ',U.shape,'    D : ',D.shape,'     V_h : ',Vh.shape)\n",
    "    \n",
    "    U_prime  = U[:,:,:,0:k] #keep only leftmost k columns\n",
    "    D_prime  = D[:,:,0:k,0:k] #keep only leftmost k columns and topmost k rows\n",
    "    Vh_prime =Vh[:,:,0:k,:] #keep only topmost k rows\n",
    "#     U_prime  = U[:,0:k] #keep only leftmost k columns\n",
    "#     D_prime  = D[:,0:k] #keep only leftmost k columns <---- for 2x2\n",
    "#     Vh_prime =Vh[0:k,:] #keep only topmost k rows\n",
    "    print(\" After SVD array sizes:    U': \",U_prime.shape, \"    D': \",D_prime.shape,\"     V_h': \",Vh_prime.shape)\n",
    "    \n",
    "#     print(U_prime)\n",
    "#     print(D_prime)\n",
    "#     print(Vh_prime)\n",
    "    \n",
    "    DVh = np.matmul(D_prime,Vh_prime)\n",
    "    print('\\nD*Vh size: ',DVh.shape)\n",
    "    out = dict();  \n",
    "    out[\"U'\"] = U_prime\n",
    "    out[\"D'*V_h'\"]   = DVh\n",
    "    out[\"Original_Singular_Values\"] = Dvect\n",
    "    \n",
    "    return out\n",
    "x = performSVD(W4_5_mat_reshape,80) #returns x as a two element dictionary\n",
    "print(x[\"U'\"].shape)\n",
    "print(x[\"D'*V_h'\"].shape)\n"
   ]
  },
  {
   "cell_type": "code",
   "execution_count": 30,
   "metadata": {},
   "outputs": [
    {
     "name": "stdout",
     "output_type": "stream",
     "text": [
      "(120,)\n"
     ]
    },
    {
     "data": {
      "image/png": "[encoded data removed]",
      "text/plain": [
       "<Figure size 432x288 with 1 Axes>"
      ]
     },
     "metadata": {
      "needs_background": "light"
     },
     "output_type": "display_data"
    },
    {
     "name": "stdout",
     "output_type": "stream",
     "text": [
      "[2.21699079e-01 1.69428700e-01 9.99867446e-02 9.27924303e-02\n",
      " 6.97305222e-02 6.61023014e-02 4.35641084e-02 2.93174204e-02\n",
      " 2.85469282e-02 2.20532220e-02 1.97471871e-02 1.57340895e-02\n",
      " 1.27069660e-02 1.22293849e-02 9.81748483e-03 8.12031772e-03\n",
      " 6.06738749e-03 5.92097228e-03 5.02258034e-03 4.50193544e-03\n",
      " 4.07657299e-03 3.27113751e-03 3.22200625e-03 2.90604295e-03\n",
      " 2.72747710e-03 2.48734091e-03 2.32639817e-03 1.93799868e-03\n",
      " 1.84485613e-03 1.76805204e-03 1.73956586e-03 1.48815093e-03\n",
      " 1.41192644e-03 1.31923479e-03 1.21396543e-03 1.20340159e-03\n",
      " 1.12646627e-03 1.08467539e-03 9.62790222e-04 9.29254039e-04\n",
      " 8.97604086e-04 8.50662969e-04 8.31329371e-04 7.66354988e-04\n",
      " 7.42246830e-04 7.22312665e-04 6.58089017e-04 6.24807874e-04\n",
      " 5.81175449e-04 5.74071338e-04 5.44136647e-04 4.98665131e-04\n",
      " 4.85774090e-04 4.49332392e-04 4.43358400e-04 4.29948059e-04\n",
      " 4.18212830e-04 4.03970356e-04 3.83762787e-04 3.73479466e-04\n",
      " 3.44594639e-04 3.28540322e-04 3.15527808e-04 3.09960647e-04\n",
      " 2.97311644e-04 2.72962841e-04 2.56318234e-04 2.44213688e-04\n",
      " 2.31008025e-04 2.24234472e-04 2.11019102e-04 2.00470260e-04\n",
      " 1.94634435e-04 1.85897895e-04 1.74489968e-04 1.64877962e-04\n",
      " 1.57410521e-04 1.49975741e-04 1.39790770e-04 1.34033487e-04\n",
      " 1.25322764e-04 1.22002884e-04 1.12210284e-04 1.09503076e-04\n",
      " 1.04251141e-04 9.72834604e-05 9.14087802e-05 8.65729741e-05\n",
      " 8.27564873e-05 7.56380769e-05 7.25898443e-05 6.68751884e-05\n",
      " 5.80311101e-05 5.34039550e-05 4.70175540e-05 4.39275060e-05\n",
      " 4.16972702e-05 4.04590378e-05 3.24846998e-05 2.59664348e-05\n",
      " 2.37153447e-05 2.26780629e-05 1.91294546e-05 1.68488133e-05\n",
      " 1.52930618e-05 1.28942487e-05 1.20609852e-05 8.21558189e-06\n",
      " 6.83447891e-06 5.15950985e-06 3.82860256e-06 3.13912955e-06\n",
      " 2.71823864e-06 2.20990797e-06 1.12949838e-06 5.76265073e-07\n",
      " 3.46525652e-07 1.76479867e-07 1.58677958e-10 9.84015978e-17]\n"
     ]
    }
   ],
   "source": [
    "#plot singular values (cumulative summation)\n",
    "\n",
    "ypoints = np.zeros(120)\n",
    "singvals = x[\"Original_Singular_Values\"]\n",
    "singvals = singvals[0,0,:]\n",
    "singvals = 1/np.sum(singvals)*singvals\n",
    "print(singvals.shape)\n",
    "for i in range(0,120):\n",
    "    ypoints[i] = np.sum(singvals[0:i])\n",
    "xpoints = np.array(range(1,121))\n",
    "\n",
    "\n",
    "plt.plot(xpoints, ypoints)\n",
    "plt.show()\n",
    "print(singvals)"
   ]
  }
 ],
 "metadata": {
  "kernelspec": {
   "display_name": "Python 3",
   "language": "python",
   "name": "python3"
  },
  "language_info": {
   "codemirror_mode": {
    "name": "ipython",
    "version": 3
   },
   "file_extension": ".py",
   "mimetype": "text/x-python",
   "name": "python",
   "nbconvert_exporter": "python",
   "pygments_lexer": "ipython3",
   "version": "3.8.3"
  }
 },
 "nbformat": 4,
 "nbformat_minor": 4
}
